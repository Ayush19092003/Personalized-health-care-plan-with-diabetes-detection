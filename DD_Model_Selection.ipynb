{
 "cells": [
  {
   "cell_type": "code",
   "execution_count": 1,
   "id": "7ea79d57",
   "metadata": {},
   "outputs": [
    {
     "ename": "ModuleNotFoundError",
     "evalue": "No module named 'numpy'",
     "output_type": "error",
     "traceback": [
      "\u001b[1;31m---------------------------------------------------------------------------\u001b[0m",
      "\u001b[1;31mModuleNotFoundError\u001b[0m                       Traceback (most recent call last)",
      "Cell \u001b[1;32mIn[1], line 1\u001b[0m\n\u001b[1;32m----> 1\u001b[0m \u001b[38;5;28;01mimport\u001b[39;00m \u001b[38;5;21;01mnumpy\u001b[39;00m \u001b[38;5;28;01mas\u001b[39;00m \u001b[38;5;21;01mnp\u001b[39;00m\n\u001b[0;32m      2\u001b[0m \u001b[38;5;28;01mimport\u001b[39;00m \u001b[38;5;21;01mpandas\u001b[39;00m \u001b[38;5;28;01mas\u001b[39;00m \u001b[38;5;21;01mpd\u001b[39;00m\n\u001b[0;32m      3\u001b[0m \u001b[38;5;28;01mimport\u001b[39;00m \u001b[38;5;21;01mmatplotlib\u001b[39;00m\u001b[38;5;21;01m.\u001b[39;00m\u001b[38;5;21;01mpyplot\u001b[39;00m \u001b[38;5;28;01mas\u001b[39;00m \u001b[38;5;21;01mplt\u001b[39;00m\n",
      "\u001b[1;31mModuleNotFoundError\u001b[0m: No module named 'numpy'"
     ]
    }
   ],
   "source": [
    "import numpy as np\n",
    "import pandas as pd\n",
    "import matplotlib.pyplot as plt\n",
    "%matplotlib inline\n",
    "import seaborn as sns\n",
    "import pylab\n",
    "import scipy.stats as stat\n",
    "from scipy.stats import ttest_ind, chi2_contingency\n",
    "import statsmodels.api as sm\n",
    "from statsmodels.formula.api import ols\n",
    "from category_encoders import TargetEncoder\n",
    "from sklearn.preprocessing import LabelEncoder, StandardScaler, MinMaxScaler, RobustScaler\n",
    "from sklearn.model_selection import train_test_split\n",
    "from sklearn.model_selection import RandomizedSearchCV\n",
    "from sklearn.model_selection import GridSearchCV\n",
    "import os"
   ]
  },
  {
   "cell_type": "code",
   "execution_count": null,
   "id": "50e42bb7",
   "metadata": {},
   "outputs": [
    {
     "data": {
      "text/html": [
       "<div>\n",
       "<style scoped>\n",
       "    .dataframe tbody tr th:only-of-type {\n",
       "        vertical-align: middle;\n",
       "    }\n",
       "\n",
       "    .dataframe tbody tr th {\n",
       "        vertical-align: top;\n",
       "    }\n",
       "\n",
       "    .dataframe thead th {\n",
       "        text-align: right;\n",
       "    }\n",
       "</style>\n",
       "<table border=\"1\" class=\"dataframe\">\n",
       "  <thead>\n",
       "    <tr style=\"text-align: right;\">\n",
       "      <th></th>\n",
       "      <th>Glucose</th>\n",
       "      <th>BloodPressure</th>\n",
       "      <th>SkinThickness</th>\n",
       "      <th>Insulin</th>\n",
       "      <th>BMI</th>\n",
       "      <th>DiabetesPedigreeFunction</th>\n",
       "      <th>Age</th>\n",
       "      <th>Outcome</th>\n",
       "    </tr>\n",
       "  </thead>\n",
       "  <tbody>\n",
       "    <tr>\n",
       "      <th>0</th>\n",
       "      <td>0.865276</td>\n",
       "      <td>-0.005124</td>\n",
       "      <td>0.928458</td>\n",
       "      <td>-0.815354</td>\n",
       "      <td>0.217978</td>\n",
       "      <td>0.798645</td>\n",
       "      <td>1.556957</td>\n",
       "      <td>1.0</td>\n",
       "    </tr>\n",
       "    <tr>\n",
       "      <th>1</th>\n",
       "      <td>-1.205989</td>\n",
       "      <td>-0.542772</td>\n",
       "      <td>0.546002</td>\n",
       "      <td>-0.815354</td>\n",
       "      <td>-0.874679</td>\n",
       "      <td>-0.328392</td>\n",
       "      <td>-0.163949</td>\n",
       "      <td>0.0</td>\n",
       "    </tr>\n",
       "    <tr>\n",
       "      <th>2</th>\n",
       "      <td>2.015979</td>\n",
       "      <td>-0.721988</td>\n",
       "      <td>-1.302538</td>\n",
       "      <td>-0.815354</td>\n",
       "      <td>-1.389789</td>\n",
       "      <td>0.982401</td>\n",
       "      <td>-0.073375</td>\n",
       "      <td>1.0</td>\n",
       "    </tr>\n",
       "    <tr>\n",
       "      <th>3</th>\n",
       "      <td>-1.074480</td>\n",
       "      <td>-0.542772</td>\n",
       "      <td>0.163545</td>\n",
       "      <td>0.399244</td>\n",
       "      <td>-0.640538</td>\n",
       "      <td>-1.079749</td>\n",
       "      <td>-1.069690</td>\n",
       "      <td>0.0</td>\n",
       "    </tr>\n",
       "    <tr>\n",
       "      <th>4</th>\n",
       "      <td>0.503626</td>\n",
       "      <td>-2.872582</td>\n",
       "      <td>0.928458</td>\n",
       "      <td>1.355416</td>\n",
       "      <td>1.700869</td>\n",
       "      <td>0.165203</td>\n",
       "      <td>0.017199</td>\n",
       "      <td>1.0</td>\n",
       "    </tr>\n",
       "    <tr>\n",
       "      <th>...</th>\n",
       "      <td>...</td>\n",
       "      <td>...</td>\n",
       "      <td>...</td>\n",
       "      <td>...</td>\n",
       "      <td>...</td>\n",
       "      <td>...</td>\n",
       "      <td>...</td>\n",
       "      <td>...</td>\n",
       "    </tr>\n",
       "    <tr>\n",
       "      <th>763</th>\n",
       "      <td>-0.679954</td>\n",
       "      <td>0.353308</td>\n",
       "      <td>1.757114</td>\n",
       "      <td>1.510471</td>\n",
       "      <td>0.108712</td>\n",
       "      <td>-1.063415</td>\n",
       "      <td>2.734419</td>\n",
       "      <td>0.0</td>\n",
       "    </tr>\n",
       "    <tr>\n",
       "      <th>764</th>\n",
       "      <td>0.010468</td>\n",
       "      <td>-0.184340</td>\n",
       "      <td>0.418516</td>\n",
       "      <td>-0.815354</td>\n",
       "      <td>0.717478</td>\n",
       "      <td>-0.373310</td>\n",
       "      <td>-0.526245</td>\n",
       "      <td>0.0</td>\n",
       "    </tr>\n",
       "    <tr>\n",
       "      <th>765</th>\n",
       "      <td>-0.022409</td>\n",
       "      <td>-0.005124</td>\n",
       "      <td>0.163545</td>\n",
       "      <td>0.631826</td>\n",
       "      <td>-0.937117</td>\n",
       "      <td>-0.761239</td>\n",
       "      <td>-0.254523</td>\n",
       "      <td>0.0</td>\n",
       "    </tr>\n",
       "    <tr>\n",
       "      <th>766</th>\n",
       "      <td>0.141977</td>\n",
       "      <td>-1.080421</td>\n",
       "      <td>-1.302538</td>\n",
       "      <td>-0.815354</td>\n",
       "      <td>-0.328351</td>\n",
       "      <td>-0.336558</td>\n",
       "      <td>1.285235</td>\n",
       "      <td>1.0</td>\n",
       "    </tr>\n",
       "    <tr>\n",
       "      <th>767</th>\n",
       "      <td>-0.942972</td>\n",
       "      <td>-0.184340</td>\n",
       "      <td>0.673487</td>\n",
       "      <td>-0.815354</td>\n",
       "      <td>-0.281523</td>\n",
       "      <td>-0.475396</td>\n",
       "      <td>-0.888542</td>\n",
       "      <td>0.0</td>\n",
       "    </tr>\n",
       "  </tbody>\n",
       "</table>\n",
       "<p>768 rows × 8 columns</p>\n",
       "</div>"
      ],
      "text/plain": [
       "      Glucose  BloodPressure  SkinThickness   Insulin       BMI  \\\n",
       "0    0.865276      -0.005124       0.928458 -0.815354  0.217978   \n",
       "1   -1.205989      -0.542772       0.546002 -0.815354 -0.874679   \n",
       "2    2.015979      -0.721988      -1.302538 -0.815354 -1.389789   \n",
       "3   -1.074480      -0.542772       0.163545  0.399244 -0.640538   \n",
       "4    0.503626      -2.872582       0.928458  1.355416  1.700869   \n",
       "..        ...            ...            ...       ...       ...   \n",
       "763 -0.679954       0.353308       1.757114  1.510471  0.108712   \n",
       "764  0.010468      -0.184340       0.418516 -0.815354  0.717478   \n",
       "765 -0.022409      -0.005124       0.163545  0.631826 -0.937117   \n",
       "766  0.141977      -1.080421      -1.302538 -0.815354 -0.328351   \n",
       "767 -0.942972      -0.184340       0.673487 -0.815354 -0.281523   \n",
       "\n",
       "     DiabetesPedigreeFunction       Age  Outcome  \n",
       "0                    0.798645  1.556957      1.0  \n",
       "1                   -0.328392 -0.163949      0.0  \n",
       "2                    0.982401 -0.073375      1.0  \n",
       "3                   -1.079749 -1.069690      0.0  \n",
       "4                    0.165203  0.017199      1.0  \n",
       "..                        ...       ...      ...  \n",
       "763                 -1.063415  2.734419      0.0  \n",
       "764                 -0.373310 -0.526245      0.0  \n",
       "765                 -0.761239 -0.254523      0.0  \n",
       "766                 -0.336558  1.285235      1.0  \n",
       "767                 -0.475396 -0.888542      0.0  \n",
       "\n",
       "[768 rows x 8 columns]"
      ]
     },
     "execution_count": 55,
     "metadata": {},
     "output_type": "execute_result"
    }
   ],
   "source": [
    "\n",
    "df = pd.read_csv(\"Diabetes-dataset_FT.csv\")\n",
    "df"
   ]
  },
  {
   "cell_type": "markdown",
   "id": "9d793073",
   "metadata": {},
   "source": [
    "## Seperating dependent and independent variables"
   ]
  },
  {
   "cell_type": "code",
   "execution_count": null,
   "id": "d535fc3f",
   "metadata": {},
   "outputs": [
    {
     "data": {
      "text/plain": [
       "array([[ 0.86527574, -0.00512393,  0.92845833, ...,  0.21797752,\n",
       "         0.79864498,  1.55695702],\n",
       "       [-1.20598931, -0.54277224,  0.5460018 , ..., -0.87467912,\n",
       "        -0.32839152, -0.16394935],\n",
       "       [ 2.01597855, -0.72198835, -1.30253807, ..., -1.38978867,\n",
       "         0.98240093, -0.07337533],\n",
       "       ...,\n",
       "       [-0.02240928, -0.00512393,  0.16354528, ..., -0.93711664,\n",
       "        -0.76123887, -0.25452337],\n",
       "       [ 0.14197684, -1.08042056, -1.30253807, ..., -0.3283508 ,\n",
       "        -0.33655845,  1.28523497],\n",
       "       [-0.94297153, -0.18434003,  0.67348731, ..., -0.28152266,\n",
       "        -0.47539628, -0.88854151]], shape=(768, 7))"
      ]
     },
     "execution_count": 56,
     "metadata": {},
     "output_type": "execute_result"
    }
   ],
   "source": [
    "X = df.iloc[:,:-1].values\n",
    "X"
   ]
  },
  {
   "cell_type": "code",
   "execution_count": null,
   "id": "699b199b",
   "metadata": {},
   "outputs": [
    {
     "data": {
      "text/plain": [
       "array([1., 0., 1., 0., 1., 0., 1., 0., 1., 1., 0., 1., 0., 1., 1., 1., 1.,\n",
       "       1., 0., 1., 0., 0., 1., 1., 1., 1., 1., 0., 0., 0., 0., 1., 0., 0.,\n",
       "       0., 0., 0., 1., 1., 1., 0., 0., 0., 1., 0., 1., 0., 0., 1., 0., 0.,\n",
       "       0., 0., 1., 0., 0., 1., 0., 0., 0., 0., 1., 0., 0., 1., 0., 1., 0.,\n",
       "       0., 0., 1., 0., 1., 0., 0., 0., 0., 0., 1., 0., 0., 0., 0., 0., 1.,\n",
       "       0., 0., 0., 1., 0., 0., 0., 0., 1., 0., 0., 0., 0., 0., 1., 1., 0.,\n",
       "       0., 0., 0., 0., 0., 0., 0., 1., 1., 1., 0., 0., 1., 1., 1., 0., 0.,\n",
       "       0., 1., 0., 0., 0., 1., 1., 0., 0., 1., 1., 1., 1., 1., 0., 0., 0.,\n",
       "       0., 0., 0., 0., 0., 0., 0., 1., 0., 0., 0., 0., 0., 0., 0., 0., 1.,\n",
       "       0., 1., 1., 0., 0., 0., 1., 0., 0., 0., 0., 1., 1., 0., 0., 0., 0.,\n",
       "       1., 1., 0., 0., 0., 1., 0., 1., 0., 1., 0., 0., 0., 0., 0., 1., 1.,\n",
       "       1., 1., 1., 0., 0., 1., 1., 0., 1., 0., 1., 1., 1., 0., 0., 0., 0.,\n",
       "       0., 0., 1., 1., 0., 1., 0., 0., 0., 1., 1., 1., 1., 0., 1., 1., 1.,\n",
       "       1., 0., 0., 0., 0., 0., 1., 0., 0., 1., 1., 0., 0., 0., 1., 1., 1.,\n",
       "       1., 0., 0., 0., 1., 1., 0., 1., 0., 0., 0., 0., 0., 0., 0., 0., 1.,\n",
       "       1., 0., 0., 0., 1., 0., 1., 0., 0., 1., 0., 1., 0., 0., 1., 1., 0.,\n",
       "       0., 0., 0., 0., 1., 0., 0., 0., 1., 0., 0., 1., 1., 0., 0., 1., 0.,\n",
       "       0., 0., 1., 1., 1., 0., 0., 1., 0., 1., 0., 1., 1., 0., 1., 0., 0.,\n",
       "       1., 0., 1., 1., 0., 0., 1., 0., 1., 0., 0., 1., 0., 1., 0., 1., 1.,\n",
       "       1., 0., 0., 1., 0., 1., 0., 0., 0., 1., 0., 0., 0., 0., 1., 1., 1.,\n",
       "       0., 0., 0., 0., 0., 0., 0., 0., 0., 1., 0., 0., 0., 0., 0., 1., 1.,\n",
       "       1., 0., 1., 1., 0., 0., 1., 0., 0., 1., 0., 0., 1., 1., 0., 0., 0.,\n",
       "       0., 1., 0., 0., 1., 0., 0., 0., 0., 0., 0., 0., 1., 1., 1., 0., 0.,\n",
       "       1., 0., 0., 1., 0., 0., 1., 0., 1., 1., 0., 1., 0., 1., 0., 1., 0.,\n",
       "       1., 1., 0., 0., 0., 0., 1., 1., 0., 1., 0., 1., 0., 0., 0., 0., 1.,\n",
       "       1., 0., 1., 0., 1., 0., 0., 0., 0., 0., 1., 0., 0., 0., 0., 1., 0.,\n",
       "       0., 1., 1., 1., 0., 0., 1., 0., 0., 1., 0., 0., 0., 1., 0., 0., 1.,\n",
       "       0., 0., 0., 0., 0., 0., 0., 0., 0., 1., 0., 0., 0., 0., 0., 0., 0.,\n",
       "       1., 0., 0., 0., 1., 0., 0., 0., 1., 1., 0., 0., 0., 0., 0., 0., 0.,\n",
       "       1., 0., 0., 0., 0., 1., 0., 0., 0., 1., 0., 0., 0., 1., 0., 0., 0.,\n",
       "       1., 0., 0., 0., 0., 1., 1., 0., 0., 0., 0., 0., 0., 1., 0., 0., 0.,\n",
       "       0., 0., 0., 0., 0., 0., 0., 0., 1., 0., 0., 0., 1., 1., 1., 1., 0.,\n",
       "       0., 1., 1., 0., 0., 0., 0., 0., 0., 0., 0., 0., 0., 0., 0., 0., 1.,\n",
       "       1., 0., 0., 0., 0., 0., 0., 0., 1., 0., 0., 0., 0., 0., 0., 0., 1.,\n",
       "       0., 1., 1., 0., 0., 0., 1., 0., 1., 0., 1., 0., 1., 0., 1., 0., 0.,\n",
       "       1., 0., 0., 1., 0., 0., 0., 0., 1., 1., 0., 1., 0., 0., 0., 0., 1.,\n",
       "       1., 0., 1., 0., 0., 0., 1., 1., 0., 0., 0., 0., 0., 0., 0., 0., 0.,\n",
       "       0., 1., 0., 0., 0., 0., 1., 0., 0., 1., 0., 0., 0., 1., 0., 0., 0.,\n",
       "       1., 1., 1., 0., 0., 0., 0., 0., 0., 1., 0., 0., 0., 1., 0., 1., 1.,\n",
       "       1., 1., 0., 1., 1., 0., 0., 0., 0., 0., 0., 0., 1., 1., 0., 1., 0.,\n",
       "       0., 1., 0., 1., 0., 0., 0., 0., 0., 1., 0., 1., 0., 1., 0., 1., 1.,\n",
       "       0., 0., 0., 0., 1., 1., 0., 0., 0., 1., 0., 1., 1., 0., 0., 1., 0.,\n",
       "       0., 1., 1., 0., 0., 1., 0., 0., 1., 0., 0., 0., 0., 0., 0., 0., 1.,\n",
       "       1., 1., 0., 0., 0., 0., 0., 0., 1., 1., 0., 0., 1., 0., 0., 1., 0.,\n",
       "       1., 1., 1., 0., 0., 1., 1., 1., 0., 1., 0., 1., 0., 1., 0., 0., 0.,\n",
       "       0., 1., 0.])"
      ]
     },
     "execution_count": 57,
     "metadata": {},
     "output_type": "execute_result"
    }
   ],
   "source": [
    "Y = df.iloc[:,-1].values\n",
    "Y"
   ]
  },
  {
   "cell_type": "markdown",
   "id": "a6a674df",
   "metadata": {},
   "source": [
    "## Test-train split"
   ]
  },
  {
   "cell_type": "code",
   "execution_count": null,
   "id": "39d06b6e",
   "metadata": {},
   "outputs": [],
   "source": [
    "X_train, X_test, Y_train, Y_test = train_test_split(X, Y, train_size=0.66, shuffle=True)"
   ]
  },
  {
   "cell_type": "markdown",
   "id": "6592fe37",
   "metadata": {},
   "source": [
    "## Model Selection"
   ]
  },
  {
   "cell_type": "code",
   "execution_count": null,
   "id": "fc1c4475",
   "metadata": {},
   "outputs": [],
   "source": [
    "from sklearn import metrics\n",
    "from sklearn.metrics import classification_report"
   ]
  },
  {
   "cell_type": "markdown",
   "id": "ef6152f5",
   "metadata": {},
   "source": [
    "### Logistic Regression"
   ]
  },
  {
   "cell_type": "code",
   "execution_count": null,
   "id": "e7222b79",
   "metadata": {},
   "outputs": [
    {
     "name": "stdout",
     "output_type": "stream",
     "text": [
      "----------------------------------------------------------------------\n",
      "Report\n",
      "----------------------------------------------------------------------\n",
      "Confusion Matrix:\n",
      "[[148  26]\n",
      " [ 30  58]]\n",
      "Accuracy by confusion matrix: 0.7862595419847328\n",
      "\n",
      "\n",
      "                  precision    recall  f1-score   support\n",
      "\n",
      "without diabetes       0.83      0.85      0.84       174\n",
      "   with diabetes       0.69      0.66      0.67        88\n",
      "\n",
      "        accuracy                           0.79       262\n",
      "       macro avg       0.76      0.75      0.76       262\n",
      "    weighted avg       0.78      0.79      0.78       262\n",
      "\n",
      "----------------------------------------------------------------------\n"
     ]
    }
   ],
   "source": [
    "from sklearn.linear_model import LogisticRegression\n",
    "lr = LogisticRegression(random_state=16)\n",
    "lr.fit(X_train, Y_train)\n",
    "Y_pred = lr.predict(X_test)\n",
    "confusion_matrix = metrics.confusion_matrix(Y_test, Y_pred)\n",
    "print(\"-\"*70)\n",
    "print(\"Report\")\n",
    "print(\"-\"*70)\n",
    "print(\"Confusion Matrix:\")\n",
    "print(str(confusion_matrix))\n",
    "target_names = ['without diabetes', 'with diabetes']\n",
    "acc=(confusion_matrix[0][0] + confusion_matrix[1][1])/(confusion_matrix[0][0]+confusion_matrix[0][1]+confusion_matrix[1][0]+confusion_matrix[1][1])\n",
    "print(\"Accuracy by confusion matrix: \"+str(acc))\n",
    "print(\"\\n\")\n",
    "print(classification_report(Y_test, Y_pred, target_names=target_names))\n",
    "print(\"-\"*70)"
   ]
  },
  {
   "cell_type": "markdown",
   "id": "04a1b989",
   "metadata": {},
   "source": [
    "### Naive Bayes"
   ]
  },
  {
   "cell_type": "code",
   "execution_count": null,
   "id": "8c2a5266",
   "metadata": {},
   "outputs": [
    {
     "name": "stdout",
     "output_type": "stream",
     "text": [
      "----------------------------------------------------------------------\n",
      "Report\n",
      "----------------------------------------------------------------------\n",
      "Confusion Matrix:\n",
      "[[144  30]\n",
      " [ 33  55]]\n",
      "Accuracy by confusion matrix: 0.7595419847328244\n",
      "\n",
      "\n",
      "                  precision    recall  f1-score   support\n",
      "\n",
      "without diabetes       0.81      0.83      0.82       174\n",
      "   with diabetes       0.65      0.62      0.64        88\n",
      "\n",
      "        accuracy                           0.76       262\n",
      "       macro avg       0.73      0.73      0.73       262\n",
      "    weighted avg       0.76      0.76      0.76       262\n",
      "\n",
      "----------------------------------------------------------------------\n"
     ]
    }
   ],
   "source": [
    "from sklearn.naive_bayes import GaussianNB\n",
    "gnb = GaussianNB()\n",
    "gnb.fit(X_train, Y_train)\n",
    "Y_pred = gnb.predict(X_test)\n",
    "confusion_matrix = metrics.confusion_matrix(Y_test, Y_pred)\n",
    "print(\"-\"*70)\n",
    "print(\"Report\")\n",
    "print(\"-\"*70)\n",
    "print(\"Confusion Matrix:\")\n",
    "print(str(confusion_matrix))\n",
    "target_names = ['without diabetes', 'with diabetes']\n",
    "acc=(confusion_matrix[0][0] + confusion_matrix[1][1])/(confusion_matrix[0][0]+confusion_matrix[0][1]+confusion_matrix[1][0]+confusion_matrix[1][1])\n",
    "print(\"Accuracy by confusion matrix: \"+str(acc))\n",
    "print(\"\\n\")\n",
    "print(classification_report(Y_test, Y_pred, target_names=target_names))\n",
    "print(\"-\"*70)"
   ]
  },
  {
   "cell_type": "markdown",
   "id": "b7bd50a2",
   "metadata": {},
   "source": [
    "### K-nearest neighbors"
   ]
  },
  {
   "cell_type": "code",
   "execution_count": null,
   "id": "838def6d",
   "metadata": {},
   "outputs": [
    {
     "name": "stdout",
     "output_type": "stream",
     "text": [
      "----------------------------------------------------------------------\n",
      "Report\n",
      "----------------------------------------------------------------------\n",
      "Confusion Matrix:\n",
      "[[138  36]\n",
      " [ 35  53]]\n",
      "Accuracy by confusion matrix: 0.7290076335877863\n",
      "\n",
      "\n",
      "                  precision    recall  f1-score   support\n",
      "\n",
      "without diabetes       0.80      0.79      0.80       174\n",
      "   with diabetes       0.60      0.60      0.60        88\n",
      "\n",
      "        accuracy                           0.73       262\n",
      "       macro avg       0.70      0.70      0.70       262\n",
      "    weighted avg       0.73      0.73      0.73       262\n",
      "\n",
      "----------------------------------------------------------------------\n"
     ]
    }
   ],
   "source": [
    "from sklearn.neighbors import KNeighborsClassifier\n",
    "knn = KNeighborsClassifier(n_neighbors=3)\n",
    "knn.fit(X_train,Y_train)\n",
    "Y_pred = knn.predict(X_test)\n",
    "confusion_matrix = metrics.confusion_matrix(Y_test, Y_pred)\n",
    "print(\"-\"*70)\n",
    "print(\"Report\")\n",
    "print(\"-\"*70)\n",
    "print(\"Confusion Matrix:\")\n",
    "print(str(confusion_matrix))\n",
    "target_names = ['without diabetes', 'with diabetes']\n",
    "acc=(confusion_matrix[0][0] + confusion_matrix[1][1])/(confusion_matrix[0][0]+confusion_matrix[0][1]+confusion_matrix[1][0]+confusion_matrix[1][1])\n",
    "print(\"Accuracy by confusion matrix: \"+str(acc))\n",
    "print(\"\\n\")\n",
    "print(classification_report(Y_test, Y_pred, target_names=target_names))\n",
    "print(\"-\"*70)"
   ]
  },
  {
   "cell_type": "markdown",
   "id": "43efdf12",
   "metadata": {},
   "source": [
    "### Decision tree Classifier"
   ]
  },
  {
   "cell_type": "code",
   "execution_count": null,
   "id": "340a1d70",
   "metadata": {},
   "outputs": [
    {
     "name": "stdout",
     "output_type": "stream",
     "text": [
      "----------------------------------------------------------------------\n",
      "Report\n",
      "----------------------------------------------------------------------\n",
      "Confusion Matrix:\n",
      "[[134  40]\n",
      " [ 34  54]]\n",
      "Accuracy by confusion matrix: 0.7175572519083969\n",
      "\n",
      "\n",
      "                  precision    recall  f1-score   support\n",
      "\n",
      "without diabetes       0.80      0.77      0.78       174\n",
      "   with diabetes       0.57      0.61      0.59        88\n",
      "\n",
      "        accuracy                           0.72       262\n",
      "       macro avg       0.69      0.69      0.69       262\n",
      "    weighted avg       0.72      0.72      0.72       262\n",
      "\n",
      "----------------------------------------------------------------------\n"
     ]
    }
   ],
   "source": [
    "from sklearn.tree import DecisionTreeClassifier\n",
    "dt = DecisionTreeClassifier()\n",
    "dt.fit(X_train,Y_train)\n",
    "Y_pred = dt.predict(X_test)\n",
    "confusion_matrix = metrics.confusion_matrix(Y_test, Y_pred)\n",
    "print(\"-\"*70)\n",
    "print(\"Report\")\n",
    "print(\"-\"*70)\n",
    "print(\"Confusion Matrix:\")\n",
    "print(str(confusion_matrix))\n",
    "target_names = ['without diabetes', 'with diabetes']\n",
    "acc=(confusion_matrix[0][0] + confusion_matrix[1][1])/(confusion_matrix[0][0]+confusion_matrix[0][1]+confusion_matrix[1][0]+confusion_matrix[1][1])\n",
    "print(\"Accuracy by confusion matrix: \"+str(acc))\n",
    "print(\"\\n\")\n",
    "print(classification_report(Y_test, Y_pred, target_names=target_names))\n",
    "print(\"-\"*70)"
   ]
  },
  {
   "cell_type": "markdown",
   "id": "76cff415",
   "metadata": {},
   "source": [
    "### Support Vector Classifier"
   ]
  },
  {
   "cell_type": "code",
   "execution_count": null,
   "id": "74b8dd9c",
   "metadata": {},
   "outputs": [
    {
     "name": "stdout",
     "output_type": "stream",
     "text": [
      "----------------------------------------------------------------------\n",
      "Report\n",
      "----------------------------------------------------------------------\n",
      "Confusion Matrix:\n",
      "[[158  16]\n",
      " [ 44  44]]\n",
      "Accuracy by confusion matrix: 0.7709923664122137\n",
      "\n",
      "\n",
      "                  precision    recall  f1-score   support\n",
      "\n",
      "without diabetes       0.78      0.91      0.84       174\n",
      "   with diabetes       0.73      0.50      0.59        88\n",
      "\n",
      "        accuracy                           0.77       262\n",
      "       macro avg       0.76      0.70      0.72       262\n",
      "    weighted avg       0.77      0.77      0.76       262\n",
      "\n",
      "----------------------------------------------------------------------\n"
     ]
    }
   ],
   "source": [
    "from sklearn import svm\n",
    "svm = svm.SVC(kernel='poly') \n",
    "svm.fit(X_train, Y_train)\n",
    "Y_pred = svm.predict(X_test)\n",
    "confusion_matrix = metrics.confusion_matrix(Y_test, Y_pred)\n",
    "print(\"-\"*70)\n",
    "print(\"Report\")\n",
    "print(\"-\"*70)\n",
    "print(\"Confusion Matrix:\")\n",
    "print(str(confusion_matrix))\n",
    "target_names = ['without diabetes', 'with diabetes']\n",
    "acc=(confusion_matrix[0][0] + confusion_matrix[1][1])/(confusion_matrix[0][0]+confusion_matrix[0][1]+confusion_matrix[1][0]+confusion_matrix[1][1])\n",
    "print(\"Accuracy by confusion matrix: \"+str(acc))\n",
    "print(\"\\n\")\n",
    "print(classification_report(Y_test, Y_pred, target_names=target_names))\n",
    "print(\"-\"*70)"
   ]
  },
  {
   "cell_type": "markdown",
   "id": "0103678d",
   "metadata": {},
   "source": [
    "## Hyperparameter Tuning"
   ]
  },
  {
   "cell_type": "markdown",
   "id": "6d62123f",
   "metadata": {},
   "source": [
    "### Logistic Regression"
   ]
  },
  {
   "cell_type": "code",
   "execution_count": null,
   "id": "8de1fe15",
   "metadata": {},
   "outputs": [
    {
     "name": "stdout",
     "output_type": "stream",
     "text": [
      "Best: 0.770825 using {'C': 0.1, 'penalty': 'l2', 'solver': 'liblinear'}\n",
      "0.768210 (0.041727) with: {'C': 100, 'penalty': 'l2', 'solver': 'newton-cg'}\n",
      "0.768210 (0.041727) with: {'C': 100, 'penalty': 'l2', 'solver': 'lbfgs'}\n",
      "0.768210 (0.041727) with: {'C': 100, 'penalty': 'l2', 'solver': 'liblinear'}\n",
      "0.768210 (0.041727) with: {'C': 10, 'penalty': 'l2', 'solver': 'newton-cg'}\n",
      "0.768210 (0.041727) with: {'C': 10, 'penalty': 'l2', 'solver': 'lbfgs'}\n",
      "0.768210 (0.041727) with: {'C': 10, 'penalty': 'l2', 'solver': 'liblinear'}\n",
      "0.768643 (0.041093) with: {'C': 1.0, 'penalty': 'l2', 'solver': 'newton-cg'}\n",
      "0.768643 (0.041093) with: {'C': 1.0, 'penalty': 'l2', 'solver': 'lbfgs'}\n",
      "0.767777 (0.041135) with: {'C': 1.0, 'penalty': 'l2', 'solver': 'liblinear'}\n",
      "0.770398 (0.041642) with: {'C': 0.1, 'penalty': 'l2', 'solver': 'newton-cg'}\n",
      "0.770398 (0.041642) with: {'C': 0.1, 'penalty': 'l2', 'solver': 'lbfgs'}\n",
      "0.770825 (0.041311) with: {'C': 0.1, 'penalty': 'l2', 'solver': 'liblinear'}\n",
      "0.758675 (0.043801) with: {'C': 0.01, 'penalty': 'l2', 'solver': 'newton-cg'}\n",
      "0.758675 (0.043801) with: {'C': 0.01, 'penalty': 'l2', 'solver': 'lbfgs'}\n",
      "0.766103 (0.044868) with: {'C': 0.01, 'penalty': 'l2', 'solver': 'liblinear'}\n"
     ]
    }
   ],
   "source": [
    "from sklearn.model_selection import RepeatedStratifiedKFold\n",
    "model = LogisticRegression()\n",
    "solvers = ['newton-cg', 'lbfgs', 'liblinear']\n",
    "penalty = ['l2']\n",
    "c_values = [100, 10, 1.0, 0.1, 0.01]\n",
    "# define grid search\n",
    "grid = dict(solver=solvers,penalty=penalty,C=c_values)\n",
    "cv = RepeatedStratifiedKFold(n_splits=10, n_repeats=3, random_state=1)\n",
    "grid_search = GridSearchCV(estimator=model, param_grid=grid, n_jobs=-1, cv=cv, scoring='accuracy',error_score=0)\n",
    "grid_result = grid_search.fit(X, Y)\n",
    "# summarize results\n",
    "print(\"Best: %f using %s\" % (grid_result.best_score_, grid_result.best_params_))\n",
    "means = grid_result.cv_results_['mean_test_score']\n",
    "stds = grid_result.cv_results_['std_test_score']\n",
    "params = grid_result.cv_results_['params']\n",
    "for mean, stdev, param in zip(means, stds, params):\n",
    "    print(\"%f (%f) with: %r\" % (mean, stdev, param))"
   ]
  },
  {
   "cell_type": "code",
   "execution_count": null,
   "id": "b1d5be4e",
   "metadata": {},
   "outputs": [
    {
     "name": "stdout",
     "output_type": "stream",
     "text": [
      "----------------------------------------------------------------------\n",
      "Report\n",
      "----------------------------------------------------------------------\n",
      "Confusion Matrix:\n",
      "[[436  64]\n",
      " [110 158]]\n",
      "Accuracy by confusion matrix: 0.7734375\n",
      "\n",
      "\n",
      "                  precision    recall  f1-score   support\n",
      "\n",
      "without diabetes       0.80      0.87      0.83       500\n",
      "   with diabetes       0.71      0.59      0.64       268\n",
      "\n",
      "        accuracy                           0.77       768\n",
      "       macro avg       0.76      0.73      0.74       768\n",
      "    weighted avg       0.77      0.77      0.77       768\n",
      "\n",
      "----------------------------------------------------------------------\n"
     ]
    },
    {
     "name": "stderr",
     "output_type": "stream",
     "text": [
      "c:\\Users\\ayush\\AppData\\Local\\Programs\\Python\\Python313\\Lib\\site-packages\\sklearn\\linear_model\\_logistic.py:1247: FutureWarning: 'multi_class' was deprecated in version 1.5 and will be removed in 1.7. From then on, it will always use 'multinomial'. Leave it to its default value to avoid this warning.\n",
      "  warnings.warn(\n"
     ]
    }
   ],
   "source": [
    "lr = LogisticRegression(random_state=16,C=0.1,penalty='l2',\n",
    "    dual=False,\n",
    "    tol=0.0001,\n",
    "    fit_intercept=True,\n",
    "    intercept_scaling=1,\n",
    "    class_weight=None,\n",
    "    solver='liblinear',\n",
    "    max_iter=100,\n",
    "    multi_class='auto',\n",
    "    verbose=0,\n",
    "    warm_start=False,\n",
    "    n_jobs=None,\n",
    "    l1_ratio=None,)\n",
    "\n",
    "lr.fit(X_train, Y_train)\n",
    "Y_pred = lr.predict(X)\n",
    "confusion_matrix = metrics.confusion_matrix(Y, Y_pred)\n",
    "print(\"-\"*70)\n",
    "print(\"Report\")\n",
    "print(\"-\"*70)\n",
    "print(\"Confusion Matrix:\")\n",
    "print(str(confusion_matrix))\n",
    "target_names = ['without diabetes', 'with diabetes']\n",
    "acc=(confusion_matrix[0][0] + confusion_matrix[1][1])/(confusion_matrix[0][0]+confusion_matrix[0][1]+confusion_matrix[1][0]+confusion_matrix[1][1])\n",
    "print(\"Accuracy by confusion matrix: \"+str(acc))\n",
    "print(\"\\n\")\n",
    "print(classification_report(Y, Y_pred, target_names=target_names))\n",
    "print(\"-\"*70)"
   ]
  },
  {
   "cell_type": "code",
   "execution_count": null,
   "id": "b906aaf8",
   "metadata": {},
   "outputs": [],
   "source": [
    "import pickle\n",
    "pickle.dump(lr, open('lr.pkl','wb'))"
   ]
  },
  {
   "cell_type": "markdown",
   "id": "d4b60e30",
   "metadata": {},
   "source": [
    "## Evaluating Results"
   ]
  },
  {
   "cell_type": "code",
   "execution_count": null,
   "id": "3d18a774",
   "metadata": {},
   "outputs": [],
   "source": []
  },
  {
   "cell_type": "code",
   "execution_count": null,
   "id": "c97f9971",
   "metadata": {},
   "outputs": [],
   "source": []
  },
  {
   "cell_type": "code",
   "execution_count": null,
   "id": "da5fbc51",
   "metadata": {},
   "outputs": [],
   "source": []
  },
  {
   "cell_type": "code",
   "execution_count": null,
   "id": "e90cc951",
   "metadata": {},
   "outputs": [],
   "source": []
  },
  {
   "cell_type": "code",
   "execution_count": null,
   "id": "3b4be9fb",
   "metadata": {},
   "outputs": [],
   "source": []
  },
  {
   "cell_type": "markdown",
   "id": "c4925d1e",
   "metadata": {},
   "source": [
    "\n",
    "\n",
    "\n",
    "\n",
    "## Visualizing Results"
   ]
  },
  {
   "cell_type": "code",
   "execution_count": null,
   "id": "9e44c94f",
   "metadata": {},
   "outputs": [
    {
     "data": {
      "image/png": "[encoded data removed]",
      "text/plain": [
       "<Figure size 1050x450 with 2 Axes>"
      ]
     },
     "metadata": {},
     "output_type": "display_data"
    }
   ],
   "source": [
    "dataplot = sns.heatmap(confusion_matrix, cmap='PuRd', annot=True, center=0)"
   ]
  },
  {
   "cell_type": "code",
   "execution_count": null,
   "id": "89b0c99a",
   "metadata": {},
   "outputs": [],
   "source": []
  }
 ],
 "metadata": {
  "kernelspec": {
   "display_name": "Python 3",
   "language": "python",
   "name": "python3"
  },
  "language_info": {
   "codemirror_mode": {
    "name": "ipython",
    "version": 3
   },
   "file_extension": ".py",
   "mimetype": "text/x-python",
   "name": "python",
   "nbconvert_exporter": "python",
   "pygments_lexer": "ipython3",
   "version": "3.12.2"
  }
 },
 "nbformat": 4,
 "nbformat_minor": 5
}
